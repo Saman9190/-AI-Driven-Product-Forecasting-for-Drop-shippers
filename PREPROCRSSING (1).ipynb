{
 "cells": [
  {
   "cell_type": "code",
   "execution_count": 2,
   "id": "ba901a08",
   "metadata": {},
   "outputs": [],
   "source": [
    "import pandas as pd\n",
    "\n",
    "data = pd.read_csv('sales_dataset.csv')\n",
    "\n",
    "# List of column names to remove\n",
    "columns_to_remove = ['Product_Container', 'Ship_Mode', 'Customer_Name','Customer_Segment','Product_Sub-Category']\n",
    "\n",
    "# Used the .drop() method to remove the specified columns\n",
    "data = data.drop(columns=columns_to_remove)\n",
    "\n",
    "# Saved the modified dataset if needed\n",
    "# Replaced 'cleaned_dataset.csv' with the desired file name\n",
    "data.to_csv('cleaned_dataset.csv', index=False)"
   ]
  },
  {
   "cell_type": "code",
   "execution_count": 4,
   "id": "c7948912",
   "metadata": {},
   "outputs": [],
   "source": [
    "df = pd.read_csv('cleaned_dataset.csv')\n",
    "\n",
    "# Specify the column in which you want to remove negative values\n",
    "column_to_check = 'Profit'\n",
    "\n",
    "# Filter the DataFrame to keep only rows where the specified column is non-negative\n",
    "df = df[df[column_to_check] >= 0]\n",
    "\n",
    "# Printed the resulting DataFrame\n",
    "df.to_csv('final_dataset.csv', index=False)"
   ]
  },
  {
   "cell_type": "code",
   "execution_count": null,
   "id": "84a641f2",
   "metadata": {},
   "outputs": [],
   "source": []
  },
  {
   "cell_type": "code",
   "execution_count": null,
   "id": "8520dd47",
   "metadata": {},
   "outputs": [],
   "source": []
  }
 ],
 "metadata": {
  "kernelspec": {
   "display_name": "Python 3 (ipykernel)",
   "language": "python",
   "name": "python3"
  },
  "language_info": {
   "codemirror_mode": {
    "name": "ipython",
    "version": 3
   },
   "file_extension": ".py",
   "mimetype": "text/x-python",
   "name": "python",
   "nbconvert_exporter": "python",
   "pygments_lexer": "ipython3",
   "version": "3.10.0"
  }
 },
 "nbformat": 4,
 "nbformat_minor": 5
}
