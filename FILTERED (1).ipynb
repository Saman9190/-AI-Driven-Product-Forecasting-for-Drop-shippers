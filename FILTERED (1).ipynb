{
 "cells": [
  {
   "cell_type": "code",
   "execution_count": 3,
   "id": "f239d312",
   "metadata": {},
   "outputs": [
    {
     "name": "stdin",
     "output_type": "stream",
     "text": [
      "Enter region: Atlantic\n"
     ]
    }
   ],
   "source": [
    "import pandas as pd\n",
    "df = pd.read_csv('final_dataset.csv')\n",
    "\n",
    "region =  input(\"Enter region:\")\n",
    "if region == \"Northwest Territories\":\n",
    "    filtered_df = df[df['Region'] == 'Northwest Territories']\n",
    "elif region ==  \"Atlantic\":\n",
    "    filtered_df = df[df['Region'] == 'Atlantic']\n",
    "elif region ==  \"West\":\n",
    "    filtered_df = df[df['Region'] == 'West']\n",
    "elif region ==  \"Nunavut\":\n",
    "    filtered_df = df[df['Region'] == 'Nunavut']\n",
    "elif region ==  \"Prarie\":\n",
    "    filtered_df = df[df['Region'] == 'Prarie']\n",
    "elif region ==  \"Ontario\":\n",
    "    filtered_df = df[df['Region'] == 'Ontario']\n",
    "else:\n",
    "    print(\"Sorry, this area is not present.\")"
   ]
  },
  {
   "cell_type": "code",
   "execution_count": 4,
   "id": "93cde2b7",
   "metadata": {},
   "outputs": [],
   "source": [
    "filtered_df.to_csv('filtered_data.csv', index=False)\n"
   ]
  }
 ],
 "metadata": {
  "kernelspec": {
   "display_name": "Python 3 (ipykernel)",
   "language": "python",
   "name": "python3"
  },
  "language_info": {
   "codemirror_mode": {
    "name": "ipython",
    "version": 3
   },
   "file_extension": ".py",
   "mimetype": "text/x-python",
   "name": "python",
   "nbconvert_exporter": "python",
   "pygments_lexer": "ipython3",
   "version": "3.11.5"
  }
 },
 "nbformat": 4,
 "nbformat_minor": 5
}
